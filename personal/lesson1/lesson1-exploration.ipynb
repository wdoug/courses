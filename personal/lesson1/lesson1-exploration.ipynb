{
 "cells": [
  {
   "cell_type": "code",
   "execution_count": 1,
   "metadata": {
    "collapsed": false
   },
   "outputs": [
    {
     "name": "stderr",
     "output_type": "stream",
     "text": [
      "/home/ubuntu/anaconda2/lib/python2.7/site-packages/matplotlib/font_manager.py:273: UserWarning: Matplotlib is building the font cache using fc-list. This may take a moment.\n",
      "  warnings.warn('Matplotlib is building the font cache using fc-list. This may take a moment.')\n"
     ]
    }
   ],
   "source": [
    "%matplotlib inline"
   ]
  },
  {
   "cell_type": "markdown",
   "metadata": {},
   "source": [
    "## Cats vs Dogs redux"
   ]
  },
  {
   "cell_type": "markdown",
   "metadata": {},
   "source": [
    "Attempting to configure files etc:"
   ]
  },
  {
   "cell_type": "markdown",
   "metadata": {},
   "source": [
    "> NOTE: You will need to first set up these dependencies: \n",
    "- install the kaggle cli with: `pip install kaggle-cli`\n",
    "- then set kaggle username and password with `kg config -u <username> -p <password>` (see https://github.com/floydwch/kaggle-cli for details). You will also need to have gone to kaggle and accepted the terms for this challenge before you can download the data.`\n",
    "- apt-get install unzip"
   ]
  },
  {
   "cell_type": "markdown",
   "metadata": {},
   "source": [
    "Downloading the data"
   ]
  },
  {
   "cell_type": "code",
   "execution_count": 6,
   "metadata": {
    "collapsed": false
   },
   "outputs": [
    {
     "name": "stdout",
     "output_type": "stream",
     "text": [
      "Starting new HTTPS connection (1): www.kaggle.com\n",
      "downloading https://www.kaggle.com/c/dogs-vs-cats-redux-kernels-edition/download/test.zip\n",
      "\n",
      "Starting new HTTPS connection (1): kaggle2.blob.core.windows.net\n",
      "test.zip already downloaded !\n",
      "downloading https://www.kaggle.com/c/dogs-vs-cats-redux-kernels-edition/download/train.zip\n",
      "\n",
      "train.zip already downloaded !\n",
      "downloading https://www.kaggle.com/c/dogs-vs-cats-redux-kernels-edition/download/sample_submission.csv\n",
      "\n",
      "sample_submission.csv already downloaded !\n"
     ]
    }
   ],
   "source": [
    "!kg download -c dogs-vs-cats-redux-kernels-edition"
   ]
  },
  {
   "cell_type": "markdown",
   "metadata": {},
   "source": [
    "Moving the data into the proper directory"
   ]
  },
  {
   "cell_type": "code",
   "execution_count": 14,
   "metadata": {
    "collapsed": false
   },
   "outputs": [],
   "source": [
    "%%bash\n",
    "mkdir -p data/catsdogs\n",
    "mv sample_submission.csv data/catsdogs\n",
    "mv test.zip data/catsdogs\n",
    "mv train.zip data/catsdogs\n",
    "cd data/catsdogs\n",
    "unzip -q ./test.zip\n",
    "unzip -q ./train.zip"
   ]
  },
  {
   "cell_type": "markdown",
   "metadata": {},
   "source": [
    "Formatting the file structure"
   ]
  },
  {
   "cell_type": "code",
   "execution_count": 12,
   "metadata": {
    "collapsed": false
   },
   "outputs": [
    {
     "name": "stderr",
     "output_type": "stream",
     "text": [
      "mv: rename train/cat.* to train/cat/cat.*: No such file or directory\n",
      "mv: rename train/dog.* to train/dog/dog.*: No such file or directory\n"
     ]
    }
   ],
   "source": [
    "%%bash\n",
    "function mv_n_files { # amount, srcDir, targetDir\n",
    "    for file in $(ls -p $2 | grep -v / | tail -$1)\n",
    "    do\n",
    "    mv $2/$file $3\n",
    "    done\n",
    "}\n",
    "\n",
    "function cp_n_files { # amount, srcDir, targetDir\n",
    "    for file in $(ls -p $2 | grep -v / | tail -$1)\n",
    "    do\n",
    "    cp $2/$file $3\n",
    "    done\n",
    "}\n",
    "\n",
    "# Split train into cat and dog directories\n",
    "cd data/catsdogs\n",
    "mkdir -p train/cat\n",
    "mkdir -p train/dog\n",
    "mv train/cat.* train/cat\n",
    "mv train/dog.* train/dog\n",
    "\n",
    "# Create validation set\n",
    "mkdir -p valid/cat\n",
    "mkdir -p valid/dog\n",
    "mv_n_files 1000 train/cat valid/cat\n",
    "mv_n_files 1000 train/dog valid/dog\n",
    "\n",
    "# Create sample working directory\n",
    "mkdir -p sample/train/cat\n",
    "mkdir -p sample/train/dog\n",
    "mkdir -p sample/valid/cat\n",
    "mkdir -p sample/valid/dog\n",
    "mkdir -p sample/test\n",
    "sample_size=10\n",
    "cp_n_files $sample_size train/cat sample/train/cat\n",
    "cp_n_files $sample_size train/dog sample/train/dog\n",
    "cp_n_files $sample_size valid/cat sample/valid/cat\n",
    "cp_n_files $sample_size valid/dog sample/valid/dog\n",
    "cp_n_files $sample_size test sample/test\n"
   ]
  },
  {
   "cell_type": "markdown",
   "metadata": {},
   "source": [
    "Set up sample directory"
   ]
  },
  {
   "cell_type": "markdown",
   "metadata": {},
   "source": [
    "Setting up the data path:"
   ]
  },
  {
   "cell_type": "code",
   "execution_count": 4,
   "metadata": {
    "collapsed": true
   },
   "outputs": [],
   "source": [
    "dataPath = \"data/dogscats/sample\""
   ]
  },
  {
   "cell_type": "markdown",
   "metadata": {
    "collapsed": true
   },
   "source": [
    "## Creating the VGG classifier"
   ]
  },
  {
   "cell_type": "code",
   "execution_count": 7,
   "metadata": {
    "collapsed": false
   },
   "outputs": [],
   "source": [
    "from __future__ import division,print_function\n",
    "\n",
    "batch_size = 64\n",
    "\n",
    "# Add to python path dynamically\n",
    "import sys\n",
    "sys.path.insert(0, '../../deeplearning1/nbs')\n",
    "\n",
    "import vgg16; reload(vgg16)"
   ]
  },
  {
   "cell_type": "code",
   "execution_count": null,
   "metadata": {
    "collapsed": true
   },
   "outputs": [],
   "source": []
  }
 ],
 "metadata": {
  "anaconda-cloud": {},
  "kernelspec": {
   "display_name": "Python 2",
   "language": "python",
   "name": "python2"
  },
  "language_info": {
   "codemirror_mode": {
    "name": "ipython",
    "version": 2
   },
   "file_extension": ".py",
   "mimetype": "text/x-python",
   "name": "python",
   "nbconvert_exporter": "python",
   "pygments_lexer": "ipython2",
   "version": "2.7.13"
  }
 },
 "nbformat": 4,
 "nbformat_minor": 1
}
